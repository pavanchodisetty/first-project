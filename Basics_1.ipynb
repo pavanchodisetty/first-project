{
 "cells": [
  {
   "cell_type": "markdown",
   "metadata": {},
   "source": [
    "# Basic Operators in Python\n"
   ]
  },
  {
   "cell_type": "markdown",
   "metadata": {},
   "source": [
    "https://www.geeksforgeeks.org/basic-operators-python/"
   ]
  },
  {
   "cell_type": "markdown",
   "metadata": {},
   "source": [
    "## Arithmetic operators"
   ]
  },
  {
   "cell_type": "markdown",
   "metadata": {},
   "source": [
    "    Operator \tDescription \t                                                              Syntax\n",
    "    + \t        Addition: adds two operands \t                                              x + y\n",
    "    - \t        Subtraction: subtracts two operands \t                                      x - y\n",
    "    * \t        Multiplication: multiplies two operands \t                                  x * y\n",
    "    / \t        Division (float): divides the first operand by the second \t                 x / y\n",
    "    // \t       Division (floor): divides the first operand by the second \t                 x // y\n",
    "    % \t        Modulus: returns the remainder when first operand is divided by the second \tx % y"
   ]
  },
  {
   "cell_type": "markdown",
   "metadata": {},
   "source": [
    "You can change the values and press SHIFT+ENTER for a new calculation."
   ]
  },
  {
   "cell_type": "code",
   "execution_count": 2,
   "metadata": {},
   "outputs": [
    {
     "name": "stdout",
     "output_type": "stream",
     "text": [
      "add =  13\n",
      "sub =  5\n",
      "mul =  36\n",
      "div1 =  2.25\n",
      "div2 =  2\n",
      "mod =  1\n"
     ]
    }
   ],
   "source": [
    "\n",
    "# Examples of Arithmetic Operator --> # => one-line comment\n",
    "a = 9\n",
    "b = 4\n",
    "  \n",
    "# Addition of numbers \n",
    "add = a + b \n",
    "# Subtraction of numbers  \n",
    "sub = a - b \n",
    "# Multiplication of number  \n",
    "mul = a * b \n",
    "# Division(float) of number  \n",
    "div1 = a / b \n",
    "# Division(floor) of number  \n",
    "div2 = a // b \n",
    "# Modulo of both number \n",
    "mod = a % b \n",
    "  \n",
    "# print results \n",
    "print('add = ',add) \n",
    "print('sub = ',sub) \n",
    "print('mul = ',mul) \n",
    "print('div1 = ',div1) \n",
    "print('div2 = ',div2) \n",
    "print('mod = ',mod) \n"
   ]
  },
  {
   "cell_type": "markdown",
   "metadata": {},
   "source": [
    "## Relational Operators"
   ]
  },
  {
   "cell_type": "markdown",
   "metadata": {},
   "source": [
    "    Operator \tDescription \tSyntax\n",
    "    > \tGreater than: True if left operand is greater than the right \t                             x > y\n",
    "    < \tLess than: True if left operand is less than the right \t                                    x < y\n",
    "    == \tEqual to: True if both operands are equal \t                                                x == y\n",
    "    != \tNot equal to - True if operands are not equal \t                                            x != y\n",
    "    >= \tGreater than or equal to: True if left operand is greater than or equal to the right \t     x >= y\n",
    "    <= \tLess than or equal to: True if left operand is less than or equal to the right \t            x <= y"
   ]
  },
  {
   "cell_type": "code",
   "execution_count": 4,
   "metadata": {},
   "outputs": [
    {
     "name": "stdout",
     "output_type": "stream",
     "text": [
      "False\n",
      "True\n",
      "False\n",
      "True\n",
      "False\n",
      "True\n"
     ]
    }
   ],
   "source": [
    "\n",
    "# Examples of Relational Operators --> the result is a boolean value: True (1) or False (0)\n",
    "a = 13\n",
    "b = 33\n",
    "  \n",
    "# a > b is False \n",
    "print(a > b) \n",
    "  \n",
    "# a < b is True \n",
    "print(a < b) \n",
    "  \n",
    "# a == b is False \n",
    "print(a == b) \n",
    "  \n",
    "# a != b is True \n",
    "print(a != b) \n",
    "  \n",
    "# a >= b is False \n",
    "print(a >= b) \n",
    "  \n",
    "# a <= b is True \n",
    "print(a <= b) \n"
   ]
  },
  {
   "cell_type": "markdown",
   "metadata": {},
   "source": [
    "## Logical operators"
   ]
  },
  {
   "cell_type": "markdown",
   "metadata": {},
   "source": [
    "    Operator    Description \t                                      Syntax\n",
    "    and \t    Logical AND: True if both the operands are true \t   x and y\n",
    "    or \t     Logical OR: True if either of the operands is true \tx or y\n",
    "    not \t    Logical NOT: True if operand is false \t             not x"
   ]
  },
  {
   "cell_type": "code",
   "execution_count": 5,
   "metadata": {},
   "outputs": [
    {
     "name": "stdout",
     "output_type": "stream",
     "text": [
      "False\n",
      "True\n",
      "False\n"
     ]
    }
   ],
   "source": [
    "\n",
    "# Examples of Logical Operator \n",
    "a = True\n",
    "b = False\n",
    "  \n",
    "# Print a and b is False \n",
    "print(a and b) \n",
    "  \n",
    "# Print a or b is True \n",
    "print(a or b) \n",
    "  \n",
    "# Print not a is False \n",
    "print(not a) \n"
   ]
  },
  {
   "cell_type": "markdown",
   "metadata": {},
   "source": [
    "## Bitwise operators "
   ]
  },
  {
   "cell_type": "markdown",
   "metadata": {},
   "source": [
    "Bitwise operators acts on bits and performs bit by bit operation."
   ]
  },
  {
   "cell_type": "markdown",
   "metadata": {},
   "source": [
    "    Operator \tDescription \t       Syntax\n",
    "    & \t        Bitwise AND \t      x & y\n",
    "    | \t        Bitwise OR \t        x | y\n",
    "    ~ \t        Bitwise NOT \t      ~x\n",
    "    ^ \t        Bitwise XOR \t      x ^ y\n",
    "    >> \t       Bitwise right shift \tx>>\n",
    "    << \t       Bitwise left shift \t x<<"
   ]
  },
  {
   "cell_type": "code",
   "execution_count": 6,
   "metadata": {},
   "outputs": [
    {
     "name": "stdout",
     "output_type": "stream",
     "text": [
      "0\n",
      "14\n",
      "-11\n",
      "14\n",
      "2\n",
      "40\n"
     ]
    }
   ],
   "source": [
    "\n",
    "# Examples of Bitwise operators (all operations are performed on the binary values)\n",
    "a = 10    # 1010\n",
    "b = 4     # 0100\n",
    "  \n",
    "# Print bitwise AND operation   \n",
    "print(a & b) \n",
    "  \n",
    "# Print bitwise OR operation \n",
    "print(a | b) \n",
    "  \n",
    "# Print bitwise NOT operation  \n",
    "print(~a) \n",
    "  \n",
    "# print bitwise XOR operation  \n",
    "print(a ^ b) \n",
    "  \n",
    "# print bitwise right shift operation  \n",
    "print(a >> 2) \n",
    "  \n",
    "# print bitwise left shift operation  \n",
    "print(a << 2) \n"
   ]
  },
  {
   "cell_type": "markdown",
   "metadata": {},
   "source": [
    "## Assignment operators"
   ]
  },
  {
   "cell_type": "markdown",
   "metadata": {},
   "source": [
    "    Operator \tDescription \tSyntax\n",
    "    = \tAssign value of right side of expression to left side operand \t\n",
    "       x = y + z\n",
    "    += \tAdd AND: Add right side operand with left side operand and then assign to left operand \t\n",
    "       a+=b     a=a+b\n",
    "    -= \tSubtract AND: Subtract right operand from left operand and then assign to left operand \t\n",
    "       a-=b       a=a-b\n",
    "    *= \tMultiply AND: Multiply right operand with left operand and then assign to left operand \t\n",
    "       a*=b       a=a*b\n",
    "    /= \tDivide AND: Divide left operand with right operand and then assign to left operand \t\n",
    "       a/=b         a=a/b\n",
    "    %= \tModulus AND: Takes modulus using left and right operands and assign result to left operand \t\n",
    "       a%=b   a=a%b\n",
    "    //= \tDivide(floor) AND: Divide left operand with right operand and then assign the value(floor) to left operand \t      a//=b       a=a//b\n",
    "    **= \tExponent AND: Calculate exponent(raise power) value using operands and assign value to left operand     \t     a**=b     a=a**b\n",
    "    &= \tPerforms Bitwise AND on operands and assign value to left operand \t\n",
    "       a&=b     a=a&b\n",
    "    |= \tPerforms Bitwise OR on operands and assign value to left operand \t\n",
    "       a|=b         a=a|b\n",
    "    ^= \tPerforms Bitwise xOR on operands and assign value to left operand \t\n",
    "       a^=b       a=a^b\n",
    "    >>= \tPerforms Bitwise right shift on operands and assign value to left operand \t\n",
    "       a>>=b     a=a>>b\n",
    "    <<= \tPerforms Bitwise left shift on operands and assign value to left operand \t \n",
    "    \n",
    "       a <<= b                    a= a << b\n"
   ]
  },
  {
   "cell_type": "code",
   "execution_count": null,
   "metadata": {},
   "outputs": [],
   "source": [
    "    # test your own examples here"
   ]
  }
 ],
 "metadata": {
  "kernelspec": {
   "display_name": "Python 3",
   "language": "python",
   "name": "python3"
  },
  "language_info": {
   "codemirror_mode": {
    "name": "ipython",
    "version": 3
   },
   "file_extension": ".py",
   "mimetype": "text/x-python",
   "name": "python",
   "nbconvert_exporter": "python",
   "pygments_lexer": "ipython3",
   "version": "3.7.3"
  }
 },
 "nbformat": 4,
 "nbformat_minor": 2
}
